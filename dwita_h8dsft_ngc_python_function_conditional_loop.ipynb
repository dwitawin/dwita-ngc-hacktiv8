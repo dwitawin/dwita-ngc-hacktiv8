{
 "cells": [
  {
   "cell_type": "markdown",
   "metadata": {},
   "source": [
    "Non Graded Challenges 2 \n",
    "Python Basic Syntax: Conditions and Loops"
   ]
  },
  {
   "cell_type": "code",
   "execution_count": 13,
   "metadata": {},
   "outputs": [
    {
     "name": "stdout",
     "output_type": "stream",
     "text": [
      "Input:  Once Upon a Time in a faraway land yeehaw\n",
      "Output/Number of words:  9\n"
     ]
    }
   ],
   "source": [
    "# Task 1: Number of Word\n",
    "# Create a function that count the number of word in a sentence\n",
    "\n",
    "def number_of_word(sentence):\n",
    "    '''function that count number of word(s) in a sentence'''\n",
    "    # # Split the string\n",
    "    words = sentence.split()\n",
    "    return len(words)\n",
    "\n",
    "sentence = \"Once Upon a Time in a faraway land yeehaw\"\n",
    "print(\"Input: \", sentence)\n",
    "print(\"Output/Number of words: \", number_of_word(sentence))"
   ]
  },
  {
   "cell_type": "code",
   "execution_count": 2,
   "metadata": {},
   "outputs": [
    {
     "name": "stdout",
     "output_type": "stream",
     "text": [
      "[-5, -4, -3, -2, -1, 0, 1, 2, 3, 4, 5]\n"
     ]
    }
   ],
   "source": [
    "#Task 2: Find Multiple\n",
    "#Create a function that will get list of number(s) from a certain range that multiples of given number.\n",
    "\n",
    "def list_multiple(start_range, end_range, multiple):\n",
    "    '''a function to make a list from a certain range that multiples by given numbers'''\n",
    "    list_range = \n"
   ]
  }
 ],
 "metadata": {
  "kernelspec": {
   "display_name": "base",
   "language": "python",
   "name": "python3"
  },
  "language_info": {
   "codemirror_mode": {
    "name": "ipython",
    "version": 3
   },
   "file_extension": ".py",
   "mimetype": "text/x-python",
   "name": "python",
   "nbconvert_exporter": "python",
   "pygments_lexer": "ipython3",
   "version": "3.11.4"
  },
  "orig_nbformat": 4
 },
 "nbformat": 4,
 "nbformat_minor": 2
}
