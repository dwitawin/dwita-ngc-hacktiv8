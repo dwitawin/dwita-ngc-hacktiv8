{
 "cells": [
  {
   "cell_type": "markdown",
   "metadata": {},
   "source": [
    "Non Graded Challenges 2 \n",
    "Python Basic Syntax: Conditions and Loops\n",
    "-- Dwita Alya"
   ]
  },
  {
   "cell_type": "code",
   "execution_count": 13,
   "metadata": {},
   "outputs": [
    {
     "name": "stdout",
     "output_type": "stream",
     "text": [
      "Input:  Once Upon a Time in a faraway land yeehaw\n",
      "Output/Number of words:  9\n"
     ]
    }
   ],
   "source": [
    "# Task 1: Number of Word\n",
    "# Create a function that count the number of word in a sentence\n",
    "\n",
    "def number_of_word(sentence):\n",
    "    '''function that count number of word(s) in a sentence'''\n",
    "    # # Split the string\n",
    "    words = sentence.split()\n",
    "    return len(words)\n",
    "\n",
    "sentence = \"Once Upon a Time in a faraway land yeehaw\"\n",
    "print(\"Input: \", sentence)\n",
    "print(\"Output/Number of words: \", number_of_word(sentence))"
   ]
  },
  {
   "cell_type": "code",
   "execution_count": 14,
   "metadata": {},
   "outputs": [
    {
     "name": "stdout",
     "output_type": "stream",
     "text": [
      "Output:  [10, 20, 30, 40, 50]\n"
     ]
    }
   ],
   "source": [
    "#Task 2: Find Multiple\n",
    "#Create a function that will get list of number(s) from a certain range that multiples of given number.\n",
    "\n",
    "def list_multiple(start_range, end_range, multiple):\n",
    "    '''a function to make a list from a certain range that multiples by given numbers'''\n",
    "    # create list multiple from given range\n",
    "    list_number = [i for i in range(start_range, end_range+1) if i%int(multiple) == 0]\n",
    "    return list_number\n",
    "\n",
    "# input\n",
    "start_range = 1\n",
    "end_range = 50\n",
    "multiple = 10\n",
    "\n",
    "# print output\n",
    "print(\"Output: \", list_multiple(start_range, end_range, multiple))"
   ]
  },
  {
   "cell_type": "code",
   "execution_count": null,
   "metadata": {},
   "outputs": [],
   "source": [
    "# Task 3: Grade Converter\n",
    "# Create a function that will convert student’s grade to GPA\n",
    "# def student_name(**name):\n",
    "#     print name\n",
    "\n",
    "# def student_grade(**grade):\n",
    "#     print grade\n",
    "\n",
    "# # def Grade_Converter(convert_to, student):\n",
    "    '''a function to convert student's grades'''"
   ]
  }
 ],
 "metadata": {
  "kernelspec": {
   "display_name": "base",
   "language": "python",
   "name": "python3"
  },
  "language_info": {
   "codemirror_mode": {
    "name": "ipython",
    "version": 3
   },
   "file_extension": ".py",
   "mimetype": "text/x-python",
   "name": "python",
   "nbconvert_exporter": "python",
   "pygments_lexer": "ipython3",
   "version": "3.11.4"
  },
  "orig_nbformat": 4
 },
 "nbformat": 4,
 "nbformat_minor": 2
}
