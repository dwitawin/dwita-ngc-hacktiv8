{
 "cells": [
  {
   "cell_type": "markdown",
   "metadata": {},
   "source": [
    "Non Graded Challenge 3: OOP - Dwita Alya"
   ]
  },
  {
   "cell_type": "code",
   "execution_count": null,
   "metadata": {},
   "outputs": [],
   "source": [
    "# Create a library catalog system using OOP. \n",
    "# The system should allow users to add books to the catalog, search for books by title or author, and remove books from the catalog\n",
    "'''\n",
    "class Books ini memiliki titleBook, authorBook\n",
    "'''\n",
    "class Library:\n",
    "    def __init__(self):\n",
    "        self.items = []\n",
    "\n",
    "    def addBooks(self, title, author):\n",
    "        '''function untuk add buku ke katalog'''\n",
    "        self.title = title\n",
    "        self.author = author\n",
    "        self.items.append([title,author])\n",
    "        print(f'Buku {self.title} dari author {self.author} sudah berhasil ditambahkan ke katalog')\n",
    "\n",
    "    def removeBooks(self, title, author):\n",
    "        '''function untuk remove buku dari katalog'''\n",
    "        for item in self.items:\n",
    "            if item[0] == title or item[1] == author:\n",
    "                self.items.remove([title,author])\n",
    "                print(f'Buku {self.title} dari author {self.author} sudah berhasil dihapus dari katalog')\n",
    "\n",
    "    # def searchBooks(self, title, author):\n",
    "    #     '''function untuk search buku menggunakan title atau author'''\n",
    "    #     if len(self.items[0]) \n",
    "\n",
    "library = Library()\n",
    "pilihan = ''\n",
    "\n",
    "while pilihan != 'exit':\n",
    "    print('Selamat datang di Library')\n",
    "    print('Menu: ')\n",
    "    print('1. Add Buku')\n",
    "    print('2. Remove Buku')\n",
    "    print('3. Search di Katalog\\n')\n",
    "    pilihan = input('Pilih menu atau exit: ')\n",
    "    if pilihan == '1':\n",
    "        title = input('Masukkan nama buku: ' )\n",
    "        author = input('Masukkan nama author: ')\n",
    "        library.addBooks(title, author)\n",
    "    elif pilihan == '2':\n",
    "        inputan = input('Masukkan nama buku atau author: ')\n",
    "        library.removeBooks(title,author)\n",
    "    "
   ]
  }
 ],
 "metadata": {
  "kernelspec": {
   "display_name": "base",
   "language": "python",
   "name": "python3"
  },
  "language_info": {
   "name": "python",
   "version": "3.11.4"
  },
  "orig_nbformat": 4
 },
 "nbformat": 4,
 "nbformat_minor": 2
}
