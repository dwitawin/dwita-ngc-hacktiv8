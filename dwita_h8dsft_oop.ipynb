{
 "cells": [
  {
   "cell_type": "markdown",
   "metadata": {},
   "source": [
    "Non Graded Challenge 3: OOP - Dwita Alya"
   ]
  },
  {
   "cell_type": "code",
   "execution_count": 1,
   "metadata": {},
   "outputs": [
    {
     "name": "stdout",
     "output_type": "stream",
     "text": [
      "Selamat datang di Library\n",
      "Menu: \n",
      "1. Add Buku\n",
      "2. Remove Buku\n",
      "3. Search di Katalog\n",
      "\n",
      "Buku Juju dari author Kubo sudah berhasil ditambahkan ke katalog\n",
      "Selamat datang di Library\n",
      "Menu: \n",
      "1. Add Buku\n",
      "2. Remove Buku\n",
      "3. Search di Katalog\n",
      "\n"
     ]
    }
   ],
   "source": [
    "# Create a library catalog system using OOP. \n",
    "# The system should allow users to add books to the catalog, search for books by title or author, and remove books from the catalog\n",
    "'''\n",
    "class Books ini memiliki titleBook, authorBook\n",
    "'''\n",
    "class Library:\n",
    "    def __init__(self):\n",
    "        self.items = []\n",
    "\n",
    "    def addBooks(self, title, author):\n",
    "        '''function untuk add buku ke katalog'''\n",
    "        self.title = title\n",
    "        self.author = author\n",
    "        self.items.append([title,author])\n",
    "        print(f'Buku {self.title} dari author {self.author} sudah berhasil ditambahkan ke katalog')\n",
    "\n",
    "    def removeBooks(self, title, author):\n",
    "        '''function untuk remove buku dari katalog'''\n",
    "        for item in self.items:\n",
    "            if item[0] == title or item[1] == author:\n",
    "                self.items.remove([title,author])\n",
    "                print(f'Buku {self.title} dari author {self.author} sudah berhasil dihapus dari katalog')\n",
    "  \n",
    "    def displayBooks(self, title, author):\n",
    "        '''function untuk display buku'''\n",
    "        if len(self.items) > 0:\n",
    "            print('Katalog Buku:')\n",
    "            for index, item in enumerate(self.items):\n",
    "                print(f'{index+1}. {item[0]} - {item[1]}')\n",
    "\n",
    "    def searchBooks(self, title, author):\n",
    "        \n",
    "            \n",
    "'''Coba run menu'''\n",
    "\n",
    "library = Library()\n",
    "pilihan = ''\n",
    "\n",
    "while pilihan != 'exit':\n",
    "    print('Selamat datang di Library')\n",
    "    print('Menu: ')\n",
    "    print('1. Add Buku')\n",
    "    print('2. Remove Buku')\n",
    "    print('3. Search di Katalog\\n')\n",
    "    pilihan = input('Pilih menu atau exit: ')\n",
    "    if pilihan == '1':\n",
    "        title = input('Masukkan nama buku: ' )\n",
    "        author = input('Masukkan nama author: ')\n",
    "        library.addBooks(title, author)\n",
    "    elif pilihan == '2':\n",
    "        inputan = input('Masukkan nama buku atau author: ')\n",
    "        library.removeBooks(title,author)\n",
    "    "
   ]
  }
 ],
 "metadata": {
  "kernelspec": {
   "display_name": "base",
   "language": "python",
   "name": "python3"
  },
  "language_info": {
   "codemirror_mode": {
    "name": "ipython",
    "version": 3
   },
   "file_extension": ".py",
   "mimetype": "text/x-python",
   "name": "python",
   "nbconvert_exporter": "python",
   "pygments_lexer": "ipython3",
   "version": "3.11.4"
  },
  "orig_nbformat": 4
 },
 "nbformat": 4,
 "nbformat_minor": 2
}
