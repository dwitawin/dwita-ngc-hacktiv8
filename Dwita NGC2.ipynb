{
 "cells": [
  {
   "cell_type": "markdown",
   "metadata": {},
   "source": [
    "Non Graded Challenges 2 \n",
    "Python Basic Syntax: Conditions and Loops"
   ]
  },
  {
   "cell_type": "code",
   "execution_count": 1,
   "metadata": {},
   "outputs": [
    {
     "name": "stdout",
     "output_type": "stream",
     "text": [
      "Input:  Halo Halo, Saya Baik!\n",
      "Word Count:  4\n"
     ]
    }
   ],
   "source": [
    "# Task 1: Number of Word\n",
    "# Create a function that count the number of word in a sentence\n",
    "sentence = input(\"sentence: \")\n",
    "number_of_words = len(sentence.split())\n",
    "print(\"Input: \", sentence)\n",
    "print(\"Word Count: \", number_of_words)"
   ]
  },
  {
   "cell_type": "code",
   "execution_count": null,
   "metadata": {},
   "outputs": [],
   "source": [
    "#Task 2: Find Multiple\n",
    "#Create a function that will get list of number(s) from a certain range that multiples of given number.\n"
   ]
  }
 ],
 "metadata": {
  "kernelspec": {
   "display_name": "base",
   "language": "python",
   "name": "python3"
  },
  "language_info": {
   "codemirror_mode": {
    "name": "ipython",
    "version": 3
   },
   "file_extension": ".py",
   "mimetype": "text/x-python",
   "name": "python",
   "nbconvert_exporter": "python",
   "pygments_lexer": "ipython3",
   "version": "3.11.4"
  },
  "orig_nbformat": 4
 },
 "nbformat": 4,
 "nbformat_minor": 2
}
