{
 "cells": [
  {
   "cell_type": "markdown",
   "metadata": {},
   "source": [
    "NGC 5\n",
    "\n",
    "Dwita Alya - FTDS RMT24\n",
    "\n",
    "This Non Graded Challenge was created to evaluate the concept of Data Wrangling in SQL  with the aim of:\n",
    "\n",
    "1.Able to perform Data Definition Language (DDL) to create a table based on the information obtained.\n",
    "\n",
    "2.Able to use the SELECT, FROM, JOIN and GROUP BY keywords to get data from a certain column."
   ]
  },
  {
   "cell_type": "markdown",
   "metadata": {},
   "source": [
    "install dulu psycopg2-nya kalau belum ada disini:"
   ]
  },
  {
   "cell_type": "code",
   "execution_count": 1,
   "metadata": {},
   "outputs": [
    {
     "name": "stdout",
     "output_type": "stream",
     "text": [
      "Requirement already satisfied: psycopg2 in /Users/ita/Applications/anaconda3/lib/python3.11/site-packages (2.9.7)\n",
      "Note: you may need to restart the kernel to use updated packages.\n"
     ]
    }
   ],
   "source": [
    "%pip install psycopg2"
   ]
  },
  {
   "cell_type": "code",
   "execution_count": 1,
   "metadata": {},
   "outputs": [],
   "source": [
    "import psycopg2 as ps"
   ]
  },
  {
   "cell_type": "markdown",
   "metadata": {},
   "source": [
    "Disini buat connect ke db:"
   ]
  },
  {
   "cell_type": "code",
   "execution_count": 2,
   "metadata": {},
   "outputs": [
    {
     "data": {
      "text/plain": [
       "<connection object at 0x10870d540; dsn: 'user=postgres password=xxx dbname=ngc_hacktiv8 host=localhost port=5432', closed: 0>"
      ]
     },
     "execution_count": 2,
     "metadata": {},
     "output_type": "execute_result"
    }
   ],
   "source": [
    "conn = ps.connect(\n",
    "    host = \"localhost\",\n",
    "    port = 5432,\n",
    "    dbname = \"ngc_hacktiv8\",\n",
    "    user = \"postgres\",\n",
    "    password = \"postgres\"\n",
    ")\n",
    "\n",
    "conn"
   ]
  },
  {
   "cell_type": "code",
   "execution_count": 3,
   "metadata": {},
   "outputs": [],
   "source": [
    "cursor = conn.cursor()"
   ]
  },
  {
   "cell_type": "markdown",
   "metadata": {},
   "source": [
    "Create Table Customers dulu:"
   ]
  },
  {
   "cell_type": "code",
   "execution_count": 4,
   "metadata": {},
   "outputs": [],
   "source": [
    "cursor.execute(query='''\n",
    "    CREATE TABLE IF NOT EXISTS \"Customers\" (\n",
    "        \"customer_id\" serial PRIMARY KEY,\n",
    "        \"customer_name\" text,\n",
    "        \"city\" text\n",
    "    );\n",
    "''')"
   ]
  },
  {
   "cell_type": "markdown",
   "metadata": {},
   "source": [
    "Insert data di table Customers:"
   ]
  },
  {
   "cell_type": "code",
   "execution_count": 6,
   "metadata": {},
   "outputs": [],
   "source": [
    "cursor.execute(query='''\n",
    "    INSERT INTO \"Customers\" (customer_name, city)\n",
    "    VALUES\n",
    "        ('John Doe', 'New York'),\n",
    "        ('Jane Smith',  'Los Angeles'),\n",
    "        ('David Johnson', 'Chicago');\n",
    "''')"
   ]
  },
  {
   "cell_type": "markdown",
   "metadata": {},
   "source": [
    "Munculin data dari table Customers:"
   ]
  },
  {
   "cell_type": "code",
   "execution_count": 7,
   "metadata": {},
   "outputs": [
    {
     "name": "stdout",
     "output_type": "stream",
     "text": [
      "(1, 'John Doe', 'New York')\n",
      "(2, 'Jane Smith', 'Los Angeles')\n",
      "(3, 'David Johnson', 'Chicago')\n"
     ]
    }
   ],
   "source": [
    "cursor.execute(query='''\n",
    "    SELECT * \n",
    "    FROM \"Customers\";\n",
    "''')\n",
    "\n",
    "result = cursor.fetchall()\n",
    "\n",
    "for row in result:\n",
    "    print(row)"
   ]
  },
  {
   "cell_type": "markdown",
   "metadata": {},
   "source": [
    "Create Table Orders:"
   ]
  },
  {
   "cell_type": "code",
   "execution_count": 5,
   "metadata": {},
   "outputs": [],
   "source": [
    "cursor.execute(query='''\n",
    "    CREATE TABLE IF NOT EXISTS \"Orders\" (\n",
    "        \"order_id\" serial PRIMARY KEY,\n",
    "        \"customer_id\" int,\n",
    "        \"order_date\" date,\n",
    "        \"total_amount\" decimal,\n",
    "        FOREIGN KEY (customer_id)\n",
    "            REFERENCES \"Customers\" (customer_id)\n",
    "    );\n",
    "''')"
   ]
  },
  {
   "cell_type": "markdown",
   "metadata": {},
   "source": [
    "INSERT data di table Orders:"
   ]
  },
  {
   "cell_type": "code",
   "execution_count": 8,
   "metadata": {},
   "outputs": [],
   "source": [
    "cursor.execute(query='''\n",
    "    INSERT INTO \"Orders\" (customer_id, order_date, total_amount)\n",
    "    VALUES\n",
    "        (1, '2022-01-10', 100),\n",
    "        (1, '2022-02-15', 150),\n",
    "        (2, '2022-03-20', 200),\n",
    "        (3, '2022-04-25', 50);\n",
    "''')"
   ]
  },
  {
   "cell_type": "markdown",
   "metadata": {},
   "source": [
    "Memunculkan data dari table Orders:"
   ]
  },
  {
   "cell_type": "code",
   "execution_count": 9,
   "metadata": {},
   "outputs": [
    {
     "name": "stdout",
     "output_type": "stream",
     "text": [
      "(1, 1, datetime.date(2022, 1, 10), Decimal('100'))\n",
      "(2, 1, datetime.date(2022, 2, 15), Decimal('150'))\n",
      "(3, 2, datetime.date(2022, 3, 20), Decimal('200'))\n",
      "(4, 3, datetime.date(2022, 4, 25), Decimal('50'))\n"
     ]
    }
   ],
   "source": [
    "cursor.execute(query='''\n",
    "    SELECT * \n",
    "    FROM \"Orders\";\n",
    "''')\n",
    "\n",
    "result = cursor.fetchall()\n",
    "\n",
    "for row in result:\n",
    "    print(row)"
   ]
  },
  {
   "cell_type": "markdown",
   "metadata": {},
   "source": [
    "JOIN Table Customers dan Orders, munculin customer_name sama total ordernya pake function COUNT:"
   ]
  },
  {
   "cell_type": "code",
   "execution_count": 4,
   "metadata": {},
   "outputs": [
    {
     "name": "stdout",
     "output_type": "stream",
     "text": [
      "('John Doe', 2)\n",
      "('David Johnson', 1)\n",
      "('Jane Smith', 1)\n"
     ]
    }
   ],
   "source": [
    "cursor.execute(query='''\n",
    "    SELECT c.customer_name, COUNT(o.customer_id) AS total_orders\n",
    "    FROM \"Customers\" c\n",
    "    INNER JOIN \"Orders\" o ON o.customer_id = c.customer_id\n",
    "    GROUP BY c.customer_name;\n",
    "''')\n",
    "\n",
    "result = cursor.fetchall()\n",
    "\n",
    "for row in result:\n",
    "    print(row)"
   ]
  },
  {
   "cell_type": "code",
   "execution_count": 5,
   "metadata": {},
   "outputs": [],
   "source": [
    "conn.commit()"
   ]
  },
  {
   "cell_type": "code",
   "execution_count": 6,
   "metadata": {},
   "outputs": [],
   "source": [
    "if cursor:\n",
    "        cursor.close()\n",
    "if conn:\n",
    "    conn.close()"
   ]
  }
 ],
 "metadata": {
  "kernelspec": {
   "display_name": "base",
   "language": "python",
   "name": "python3"
  },
  "language_info": {
   "codemirror_mode": {
    "name": "ipython",
    "version": 3
   },
   "file_extension": ".py",
   "mimetype": "text/x-python",
   "name": "python",
   "nbconvert_exporter": "python",
   "pygments_lexer": "ipython3",
   "version": "3.11.4"
  },
  "orig_nbformat": 4
 },
 "nbformat": 4,
 "nbformat_minor": 2
}
